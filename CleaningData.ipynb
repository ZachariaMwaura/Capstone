{
 "cells": [
  {
   "cell_type": "markdown",
   "metadata": {},
   "source": [
    "# Cleaning Dataset"
   ]
  },
  {
   "cell_type": "code",
   "execution_count": 1,
   "metadata": {},
   "outputs": [],
   "source": [
    "import pandas as pd\n",
    "import numpy as np"
   ]
  },
  {
   "cell_type": "code",
   "execution_count": 2,
   "metadata": {},
   "outputs": [
    {
     "name": "stderr",
     "output_type": "stream",
     "text": [
      "/var/folders/0_/jyfznr0x5q53rj2pvwf26qbw0000gn/T/ipykernel_36051/2788160120.py:1: DtypeWarning: Columns (0,24) have mixed types. Specify dtype option on import or set low_memory=False.\n",
      "  df = pd.read_csv('DataFiles/Disability_and_Health_Data_System__DHDS__20241120.csv', index_col=False)\n"
     ]
    },
    {
     "name": "stdout",
     "output_type": "stream",
     "text": [
      "<class 'pandas.core.frame.DataFrame'>\n",
      "RangeIndex: 751072 entries, 0 to 751071\n",
      "Data columns (total 32 columns):\n",
      " #   Column                      Non-Null Count   Dtype  \n",
      "---  ------                      --------------   -----  \n",
      " 0   Rowid                       621902 non-null  object \n",
      " 1   Year                        751072 non-null  int64  \n",
      " 2   LocationAbbr                751072 non-null  object \n",
      " 3   LocationDesc                751072 non-null  object \n",
      " 4   DataSource                  751072 non-null  object \n",
      " 5   Category                    751072 non-null  object \n",
      " 6   Indicator                   751072 non-null  object \n",
      " 7   Response                    740296 non-null  object \n",
      " 8   Data_Value_Unit             751072 non-null  object \n",
      " 9   Data_Value_Type             751072 non-null  object \n",
      " 10  Data_Value                  674653 non-null  float64\n",
      " 11  Data_Value_Alt              674653 non-null  float64\n",
      " 12  Data_Value_Footnote_Symbol  76419 non-null   object \n",
      " 13  Data_Value_Footnote         76419 non-null   object \n",
      " 14  Low_Confidence_Limit        674653 non-null  float64\n",
      " 15  High_Confidence_Limit       674653 non-null  float64\n",
      " 16  Number                      674653 non-null  float64\n",
      " 17  WeightedNumber              674653 non-null  float64\n",
      " 18  StratificationCategory1     751072 non-null  object \n",
      " 19  Stratification1             751072 non-null  object \n",
      " 20  StratificationCategory2     475110 non-null  object \n",
      " 21  Stratification2             475110 non-null  object \n",
      " 22  CategoryID                  751072 non-null  object \n",
      " 23  IndicatorID                 751072 non-null  object \n",
      " 24  Geolocation                 161044 non-null  object \n",
      " 25  LocationID                  751072 non-null  int64  \n",
      " 26  ResponseID                  751072 non-null  object \n",
      " 27  DataValueTypeID             751072 non-null  object \n",
      " 28  StratificationCategoryID1   751072 non-null  object \n",
      " 29  StratificationID1           751072 non-null  object \n",
      " 30  StratificationCategoryID2   475110 non-null  object \n",
      " 31  StratificationID2           475110 non-null  object \n",
      "dtypes: float64(6), int64(2), object(24)\n",
      "memory usage: 183.4+ MB\n"
     ]
    }
   ],
   "source": [
    "df = pd.read_csv('DataFiles/Disability_and_Health_Data_System__DHDS__20241120.csv', index_col=False)\n",
    "df.info()"
   ]
  },
  {
   "cell_type": "markdown",
   "metadata": {},
   "source": [
    "## drop columns"
   ]
  },
  {
   "cell_type": "code",
   "execution_count": 97,
   "metadata": {},
   "outputs": [],
   "source": [
    "# RowId, DataSource, Indicator, Data_Value_Footnote_Symbol, Data_Value_Footnote, Geolocation\n",
    "df_n = df.drop(columns=['Rowid', 'DataSource', 'LocationDesc', 'Indicator', 'ResponseID', 'Data_Value_Unit', 'Data_Value_Alt', 'Data_Value_Type', 'Data_Value', 'Data_Value_Footnote_Symbol', 'Data_Value_Footnote', 'Low_Confidence_Limit',\n",
    "                        'High_Confidence_Limit', 'Number', 'WeightedNumber', 'CategoryID', 'Geolocation', 'DataValueTypeID', 'LocationID', 'StratificationCategoryID1', 'StratificationID1', 'StratificationCategoryID2', 'StratificationID2'])"
   ]
  },
  {
   "cell_type": "code",
   "execution_count": 98,
   "metadata": {},
   "outputs": [
    {
     "name": "stdout",
     "output_type": "stream",
     "text": [
      "<class 'pandas.core.frame.DataFrame'>\n",
      "RangeIndex: 751072 entries, 0 to 751071\n",
      "Data columns (total 9 columns):\n",
      " #   Column                   Non-Null Count   Dtype \n",
      "---  ------                   --------------   ----- \n",
      " 0   Year                     751072 non-null  int64 \n",
      " 1   LocationAbbr             751072 non-null  object\n",
      " 2   Category                 751072 non-null  object\n",
      " 3   Response                 740296 non-null  object\n",
      " 4   StratificationCategory1  751072 non-null  object\n",
      " 5   Stratification1          751072 non-null  object\n",
      " 6   StratificationCategory2  475110 non-null  object\n",
      " 7   Stratification2          475110 non-null  object\n",
      " 8   IndicatorID              751072 non-null  object\n",
      "dtypes: int64(1), object(8)\n",
      "memory usage: 51.6+ MB\n"
     ]
    }
   ],
   "source": [
    "df_n.info()"
   ]
  },
  {
   "cell_type": "code",
   "execution_count": 99,
   "metadata": {},
   "outputs": [
    {
     "data": {
      "text/html": [
       "<div>\n",
       "<style scoped>\n",
       "    .dataframe tbody tr th:only-of-type {\n",
       "        vertical-align: middle;\n",
       "    }\n",
       "\n",
       "    .dataframe tbody tr th {\n",
       "        vertical-align: top;\n",
       "    }\n",
       "\n",
       "    .dataframe thead th {\n",
       "        text-align: right;\n",
       "    }\n",
       "</style>\n",
       "<table border=\"1\" class=\"dataframe\">\n",
       "  <thead>\n",
       "    <tr style=\"text-align: right;\">\n",
       "      <th></th>\n",
       "      <th>Year</th>\n",
       "      <th>LocationAbbr</th>\n",
       "      <th>Category</th>\n",
       "      <th>Response</th>\n",
       "      <th>StratificationCategory1</th>\n",
       "      <th>Stratification1</th>\n",
       "      <th>StratificationCategory2</th>\n",
       "      <th>Stratification2</th>\n",
       "      <th>IndicatorID</th>\n",
       "    </tr>\n",
       "  </thead>\n",
       "  <tbody>\n",
       "    <tr>\n",
       "      <th>48151</th>\n",
       "      <td>2016</td>\n",
       "      <td>IN</td>\n",
       "      <td>Demographics</td>\n",
       "      <td>Widowed</td>\n",
       "      <td>Disability Type</td>\n",
       "      <td>Self-care Disability</td>\n",
       "      <td>NaN</td>\n",
       "      <td>NaN</td>\n",
       "      <td>MARRIED</td>\n",
       "    </tr>\n",
       "    <tr>\n",
       "      <th>693</th>\n",
       "      <td>2016</td>\n",
       "      <td>AR</td>\n",
       "      <td>Health Risks &amp; Behaviors</td>\n",
       "      <td>Yes</td>\n",
       "      <td>Disability Status</td>\n",
       "      <td>No Disability</td>\n",
       "      <td>Sex</td>\n",
       "      <td>Male</td>\n",
       "      <td>QUITSMK</td>\n",
       "    </tr>\n",
       "    <tr>\n",
       "      <th>105060</th>\n",
       "      <td>2016</td>\n",
       "      <td>VI</td>\n",
       "      <td>Mental &amp; Emotional Health</td>\n",
       "      <td>14+ Days</td>\n",
       "      <td>Disability Status</td>\n",
       "      <td>No Disability</td>\n",
       "      <td>Sex</td>\n",
       "      <td>Male</td>\n",
       "      <td>MHDAYS</td>\n",
       "    </tr>\n",
       "    <tr>\n",
       "      <th>307292</th>\n",
       "      <td>2019</td>\n",
       "      <td>PR</td>\n",
       "      <td>Mental &amp; Emotional Health</td>\n",
       "      <td>14+ Days</td>\n",
       "      <td>Disability Type</td>\n",
       "      <td>Cognitive Disability</td>\n",
       "      <td>NaN</td>\n",
       "      <td>NaN</td>\n",
       "      <td>MHDAYS</td>\n",
       "    </tr>\n",
       "    <tr>\n",
       "      <th>206330</th>\n",
       "      <td>2017</td>\n",
       "      <td>SD</td>\n",
       "      <td>Chronic Conditions</td>\n",
       "      <td>No</td>\n",
       "      <td>Disability Status</td>\n",
       "      <td>No Disability</td>\n",
       "      <td>Race/Ethnicity</td>\n",
       "      <td>White, non-Hispanic</td>\n",
       "      <td>OTHCAN</td>\n",
       "    </tr>\n",
       "    <tr>\n",
       "      <th>55632</th>\n",
       "      <td>2016</td>\n",
       "      <td>MA</td>\n",
       "      <td>Prevention &amp; Screenings</td>\n",
       "      <td>No</td>\n",
       "      <td>Disability Status</td>\n",
       "      <td>Any Disability</td>\n",
       "      <td>Age Group</td>\n",
       "      <td>36-50</td>\n",
       "      <td>UTDCERV</td>\n",
       "    </tr>\n",
       "    <tr>\n",
       "      <th>696487</th>\n",
       "      <td>2022</td>\n",
       "      <td>TN</td>\n",
       "      <td>Prevention &amp; Screenings</td>\n",
       "      <td>Yes</td>\n",
       "      <td>Disability Status</td>\n",
       "      <td>No Disability</td>\n",
       "      <td>NaN</td>\n",
       "      <td>NaN</td>\n",
       "      <td>FLUVAC</td>\n",
       "    </tr>\n",
       "    <tr>\n",
       "      <th>223369</th>\n",
       "      <td>2017</td>\n",
       "      <td>VA</td>\n",
       "      <td>Demographics</td>\n",
       "      <td>$35,000 to &lt;$50,000</td>\n",
       "      <td>Disability Type</td>\n",
       "      <td>Cognitive Disability</td>\n",
       "      <td>NaN</td>\n",
       "      <td>NaN</td>\n",
       "      <td>INCOMEN</td>\n",
       "    </tr>\n",
       "    <tr>\n",
       "      <th>741328</th>\n",
       "      <td>2022</td>\n",
       "      <td>PR</td>\n",
       "      <td>Mental &amp; Emotional Health</td>\n",
       "      <td>No</td>\n",
       "      <td>Disability Status</td>\n",
       "      <td>Any Disability</td>\n",
       "      <td>Age Group</td>\n",
       "      <td>65+</td>\n",
       "      <td>DEPRESS</td>\n",
       "    </tr>\n",
       "    <tr>\n",
       "      <th>109925</th>\n",
       "      <td>2017</td>\n",
       "      <td>AL</td>\n",
       "      <td>Chronic Conditions</td>\n",
       "      <td>Yes</td>\n",
       "      <td>Disability Status</td>\n",
       "      <td>Any Disability</td>\n",
       "      <td>Age Group</td>\n",
       "      <td>18-44</td>\n",
       "      <td>COPD</td>\n",
       "    </tr>\n",
       "  </tbody>\n",
       "</table>\n",
       "</div>"
      ],
      "text/plain": [
       "        Year LocationAbbr                   Category             Response  \\\n",
       "48151   2016           IN               Demographics              Widowed   \n",
       "693     2016           AR   Health Risks & Behaviors                  Yes   \n",
       "105060  2016           VI  Mental & Emotional Health             14+ Days   \n",
       "307292  2019           PR  Mental & Emotional Health             14+ Days   \n",
       "206330  2017           SD         Chronic Conditions                   No   \n",
       "55632   2016           MA    Prevention & Screenings                   No   \n",
       "696487  2022           TN    Prevention & Screenings                  Yes   \n",
       "223369  2017           VA               Demographics  $35,000 to <$50,000   \n",
       "741328  2022           PR  Mental & Emotional Health                   No   \n",
       "109925  2017           AL         Chronic Conditions                  Yes   \n",
       "\n",
       "       StratificationCategory1       Stratification1 StratificationCategory2  \\\n",
       "48151          Disability Type  Self-care Disability                     NaN   \n",
       "693          Disability Status         No Disability                     Sex   \n",
       "105060       Disability Status         No Disability                     Sex   \n",
       "307292         Disability Type  Cognitive Disability                     NaN   \n",
       "206330       Disability Status         No Disability          Race/Ethnicity   \n",
       "55632        Disability Status        Any Disability               Age Group   \n",
       "696487       Disability Status         No Disability                     NaN   \n",
       "223369         Disability Type  Cognitive Disability                     NaN   \n",
       "741328       Disability Status        Any Disability               Age Group   \n",
       "109925       Disability Status        Any Disability               Age Group   \n",
       "\n",
       "            Stratification2 IndicatorID  \n",
       "48151                   NaN     MARRIED  \n",
       "693                    Male     QUITSMK  \n",
       "105060                 Male      MHDAYS  \n",
       "307292                  NaN      MHDAYS  \n",
       "206330  White, non-Hispanic      OTHCAN  \n",
       "55632                 36-50     UTDCERV  \n",
       "696487                  NaN      FLUVAC  \n",
       "223369                  NaN     INCOMEN  \n",
       "741328                  65+     DEPRESS  \n",
       "109925                18-44        COPD  "
      ]
     },
     "execution_count": 99,
     "metadata": {},
     "output_type": "execute_result"
    }
   ],
   "source": [
    "df_n.sample(n=10, random_state=1)"
   ]
  },
  {
   "cell_type": "code",
   "execution_count": 100,
   "metadata": {},
   "outputs": [
    {
     "name": "stdout",
     "output_type": "stream",
     "text": [
      "<class 'pandas.core.frame.DataFrame'>\n",
      "RangeIndex: 751072 entries, 0 to 751071\n",
      "Data columns (total 9 columns):\n",
      " #   Column                   Non-Null Count   Dtype \n",
      "---  ------                   --------------   ----- \n",
      " 0   Year                     751072 non-null  int64 \n",
      " 1   LocationAbbr             751072 non-null  object\n",
      " 2   Category                 751072 non-null  object\n",
      " 3   Response                 740296 non-null  object\n",
      " 4   StratificationCategory1  751072 non-null  object\n",
      " 5   Stratification1          751072 non-null  object\n",
      " 6   StratificationCategory2  475110 non-null  object\n",
      " 7   Stratification2          475110 non-null  object\n",
      " 8   IndicatorID              751072 non-null  object\n",
      "dtypes: int64(1), object(8)\n",
      "memory usage: 51.6+ MB\n"
     ]
    }
   ],
   "source": [
    "df_n.info()"
   ]
  },
  {
   "cell_type": "code",
   "execution_count": 101,
   "metadata": {},
   "outputs": [],
   "source": [
    "df_n.to_csv('CleanData.csv', index=False)"
   ]
  }
 ],
 "metadata": {
  "kernelspec": {
   "display_name": "mylearnenv",
   "language": "python",
   "name": "python3"
  },
  "language_info": {
   "codemirror_mode": {
    "name": "ipython",
    "version": 3
   },
   "file_extension": ".py",
   "mimetype": "text/x-python",
   "name": "python",
   "nbconvert_exporter": "python",
   "pygments_lexer": "ipython3",
   "version": "3.12.4"
  }
 },
 "nbformat": 4,
 "nbformat_minor": 2
}
